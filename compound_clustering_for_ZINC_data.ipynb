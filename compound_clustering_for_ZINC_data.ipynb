{
 "cells": [
  {
   "metadata": {
    "collapsed": true,
    "ExecuteTime": {
     "end_time": "2025-07-31T10:14:28.695Z",
     "start_time": "2025-07-31T10:14:28.681785Z"
    }
   },
   "cell_type": "code",
   "source": [
    "import re\n",
    "from pathlib import Path\n",
    "\n",
    "import scipy\n",
    "import functools\n",
    "import numpy as np\n",
    "import pandas as pd\n",
    "\n",
    "import networkx as nx\n",
    "\n",
    "from rdkit import Chem\n",
    "from rdkit import DataStructs\n",
    "from rdkit.Chem import AllChem, PandasTools, rdFingerprintGenerator, MACCSkeys\n",
    "from rdkit.DataStructs import TanimotoSimilarity\n",
    "from rdkit.Chem.Fingerprints import FingerprintMols\n",
    "\n",
    "import matplotlib.pyplot as plt\n",
    "%matplotlib inline\n",
    "\n",
    "import umap\n",
    "# import umap.plot\n",
    "# import hdbscan\n",
    "\n",
    "from tqdm import tqdm"
   ],
   "id": "9969cd5e01966d6e",
   "outputs": [],
   "execution_count": 30
  },
  {
   "metadata": {
    "ExecuteTime": {
     "end_time": "2025-07-31T10:14:28.712459Z",
     "start_time": "2025-07-31T10:14:28.705181Z"
    }
   },
   "cell_type": "code",
   "source": [
    "from sklearn.manifold import TSNE\n",
    "from sklearn.cluster import DBSCAN\n",
    "from sklearn.cluster import KMeans\n",
    "from sklearn.utils import check_X_y\n",
    "from sklearn.utils import _safe_indexing\n",
    "from sklearn.utils import check_random_state\n",
    "from sklearn.preprocessing import LabelEncoder\n",
    "from sklearn.metrics import davies_bouldin_score\n",
    "from sklearn.metrics.pairwise import pairwise_distances\n",
    "from sklearn.metrics.pairwise import euclidean_distances\n",
    "from sklearn.metrics.pairwise import pairwise_distances_chunked\n",
    "from sklearn.utils.validation import _deprecate_positional_args"
   ],
   "id": "449f33e287b2b8b5",
   "outputs": [],
   "execution_count": 31
  },
  {
   "metadata": {
    "ExecuteTime": {
     "end_time": "2025-07-31T10:14:28.726329Z",
     "start_time": "2025-07-31T10:14:28.722304Z"
    }
   },
   "cell_type": "code",
   "source": [
    "HERE = Path.cwd()\n",
    "DATA = HERE / \"data\""
   ],
   "id": "7d248c96dd0e8ed9",
   "outputs": [],
   "execution_count": 32
  },
  {
   "metadata": {
    "ExecuteTime": {
     "end_time": "2025-07-31T10:14:28.742180Z",
     "start_time": "2025-07-31T10:14:28.736463Z"
    }
   },
   "cell_type": "code",
   "source": [
    "def check_number_of_labels(n_labels, n_samples):\n",
    "    if not 1 < n_labels < n_samples:\n",
    "        raise ValueError(\"Number of labels is %d. Valid values are 2\"\n",
    "                         \"to n_samples - 1 (inclusive)\" % n_labels)\n",
    "\n",
    "\n",
    "def FingerprintFromSmiles(smiles, method='morgan'):\n",
    "    \"\"\"Converts SMILES to Fingerprint\"\"\"\n",
    "\n",
    "    if method == \"rdkit\":\n",
    "        rdk_fpg = rdFingerprintGenerator.GetRDKitFPGenerator(maxPath=5)\n",
    "        return rdk_fpg.GetFingerprint(Chem.MolFromSmiles(smiles))\n",
    "    elif method == \"morgan\":\n",
    "        mfp_fpg = rdFingerprintGenerator.GetMorganGenerator(radius=2, fpSize=2048)\n",
    "        return mfp_fpg.GetFingerprint(Chem.MolFromSmiles(smiles))\n",
    "    elif method == \"maccs\":\n",
    "        return MACCSkeys.GenMACCSKeys(Chem.MolFromSmiles(smiles))\n",
    "    else:\n",
    "        return \"invalid method: use rdkit or morgan\""
   ],
   "id": "c1ece58953e1fba9",
   "outputs": [],
   "execution_count": 33
  },
  {
   "metadata": {
    "ExecuteTime": {
     "end_time": "2025-07-31T10:14:29.757135Z",
     "start_time": "2025-07-31T10:14:28.757884Z"
    }
   },
   "cell_type": "code",
   "source": [
    "zinc_data_f = pd.read_csv(DATA / \"filtered_zinc_data.csv\")\n",
    "# data_r = pd.read_csv(\"\")\n",
    "\n",
    "print(zinc_data_f.shape)\n",
    "zinc_data_f.head()"
   ],
   "id": "1a4259af4784065e",
   "outputs": [
    {
     "name": "stdout",
     "output_type": "stream",
     "text": [
      "(486318, 6)\n"
     ]
    },
    {
     "data": {
      "text/plain": [
       "                            smiles  zinc_id                     inchikey  \\\n",
       "0         Cc1cc(C(=O)O)nn1C(C)(C)C   128082  FCFGJNOOQYQMKY-UHFFFAOYSA-N   \n",
       "1                   Cc1cc(C=O)oc1C   153224  JPTPEPVCVXGNJM-UHFFFAOYSA-N   \n",
       "2             Oc1nc2ccc(Cl)cc2nc1O   336490  RNOLFZACEWWIHP-UHFFFAOYSA-N   \n",
       "3  CC(C)[C@@H]1C(=O)C[C@@H](C)CN1C  1296142  ALCOISCHVBFFNS-PSASIEDQSA-N   \n",
       "4             COc1cc(N(C)C)ccc1C=O  1583074  HGDRXADJVGVGBC-UHFFFAOYSA-N   \n",
       "\n",
       "       mwt   logp  reactive  \n",
       "0  182.223  1.645         0  \n",
       "1  124.139  1.709         0  \n",
       "2  196.593  1.694         0  \n",
       "3  169.268  1.552         0  \n",
       "4  179.219  1.574         0  "
      ],
      "text/html": [
       "<div>\n",
       "<style scoped>\n",
       "    .dataframe tbody tr th:only-of-type {\n",
       "        vertical-align: middle;\n",
       "    }\n",
       "\n",
       "    .dataframe tbody tr th {\n",
       "        vertical-align: top;\n",
       "    }\n",
       "\n",
       "    .dataframe thead th {\n",
       "        text-align: right;\n",
       "    }\n",
       "</style>\n",
       "<table border=\"1\" class=\"dataframe\">\n",
       "  <thead>\n",
       "    <tr style=\"text-align: right;\">\n",
       "      <th></th>\n",
       "      <th>smiles</th>\n",
       "      <th>zinc_id</th>\n",
       "      <th>inchikey</th>\n",
       "      <th>mwt</th>\n",
       "      <th>logp</th>\n",
       "      <th>reactive</th>\n",
       "    </tr>\n",
       "  </thead>\n",
       "  <tbody>\n",
       "    <tr>\n",
       "      <th>0</th>\n",
       "      <td>Cc1cc(C(=O)O)nn1C(C)(C)C</td>\n",
       "      <td>128082</td>\n",
       "      <td>FCFGJNOOQYQMKY-UHFFFAOYSA-N</td>\n",
       "      <td>182.223</td>\n",
       "      <td>1.645</td>\n",
       "      <td>0</td>\n",
       "    </tr>\n",
       "    <tr>\n",
       "      <th>1</th>\n",
       "      <td>Cc1cc(C=O)oc1C</td>\n",
       "      <td>153224</td>\n",
       "      <td>JPTPEPVCVXGNJM-UHFFFAOYSA-N</td>\n",
       "      <td>124.139</td>\n",
       "      <td>1.709</td>\n",
       "      <td>0</td>\n",
       "    </tr>\n",
       "    <tr>\n",
       "      <th>2</th>\n",
       "      <td>Oc1nc2ccc(Cl)cc2nc1O</td>\n",
       "      <td>336490</td>\n",
       "      <td>RNOLFZACEWWIHP-UHFFFAOYSA-N</td>\n",
       "      <td>196.593</td>\n",
       "      <td>1.694</td>\n",
       "      <td>0</td>\n",
       "    </tr>\n",
       "    <tr>\n",
       "      <th>3</th>\n",
       "      <td>CC(C)[C@@H]1C(=O)C[C@@H](C)CN1C</td>\n",
       "      <td>1296142</td>\n",
       "      <td>ALCOISCHVBFFNS-PSASIEDQSA-N</td>\n",
       "      <td>169.268</td>\n",
       "      <td>1.552</td>\n",
       "      <td>0</td>\n",
       "    </tr>\n",
       "    <tr>\n",
       "      <th>4</th>\n",
       "      <td>COc1cc(N(C)C)ccc1C=O</td>\n",
       "      <td>1583074</td>\n",
       "      <td>HGDRXADJVGVGBC-UHFFFAOYSA-N</td>\n",
       "      <td>179.219</td>\n",
       "      <td>1.574</td>\n",
       "      <td>0</td>\n",
       "    </tr>\n",
       "  </tbody>\n",
       "</table>\n",
       "</div>"
      ]
     },
     "execution_count": 34,
     "metadata": {},
     "output_type": "execute_result"
    }
   ],
   "execution_count": 34
  },
  {
   "metadata": {},
   "cell_type": "markdown",
   "source": "Add ROMol objects of these molecules to the DataFrame.",
   "id": "a62a58ebcf778b2f"
  },
  {
   "metadata": {},
   "cell_type": "markdown",
   "source": "Calculate circular **Morgan fingerprints** for molecules and add those values to a DataFrame as a separate column.",
   "id": "58a2f8626b9562ad"
  },
  {
   "metadata": {
    "ExecuteTime": {
     "end_time": "2025-07-31T10:17:29.663693Z",
     "start_time": "2025-07-31T10:16:08.681020Z"
    }
   },
   "cell_type": "code",
   "source": [
    "zinc_data_f[\"morgan\"] = [FingerprintFromSmiles(smiles, method='morgan') for smiles in tqdm(zinc_data_f[\"smiles\"], desc=\"Generating Morgan fingerprints for zinc_data\")]\n",
    "zinc_data_f.head(5)"
   ],
   "id": "da994c3a6a04798f",
   "outputs": [
    {
     "name": "stderr",
     "output_type": "stream",
     "text": [
      "C:\\Users\\hrach\\AppData\\Local\\Temp\\ipykernel_25176\\3143470000.py:1: TqdmDeprecationWarning: This function will be removed in tqdm==5.0.0\n",
      "Please use `tqdm.notebook.tqdm` instead of `tqdm.tqdm_notebook`\n",
      "  zinc_data_f[\"morgan\"] = [FingerprintFromSmiles(smiles, method='morgan') for smiles in tqdm(zinc_data_f[\"smiles\"], desc=\"Generating Morgan fingerprints for zinc_data\")]\n"
     ]
    },
    {
     "data": {
      "text/plain": [
       "Generating Morgan fingerprints for zinc_data:   0%|          | 0/486318 [00:00<?, ?it/s]"
      ],
      "application/vnd.jupyter.widget-view+json": {
       "version_major": 2,
       "version_minor": 0,
       "model_id": "dabd815ea4034d35a803622f6549af5c"
      }
     },
     "metadata": {},
     "output_type": "display_data"
    },
    {
     "data": {
      "text/plain": [
       "                            smiles  zinc_id                     inchikey  \\\n",
       "0         Cc1cc(C(=O)O)nn1C(C)(C)C   128082  FCFGJNOOQYQMKY-UHFFFAOYSA-N   \n",
       "1                   Cc1cc(C=O)oc1C   153224  JPTPEPVCVXGNJM-UHFFFAOYSA-N   \n",
       "2             Oc1nc2ccc(Cl)cc2nc1O   336490  RNOLFZACEWWIHP-UHFFFAOYSA-N   \n",
       "3  CC(C)[C@@H]1C(=O)C[C@@H](C)CN1C  1296142  ALCOISCHVBFFNS-PSASIEDQSA-N   \n",
       "4             COc1cc(N(C)C)ccc1C=O  1583074  HGDRXADJVGVGBC-UHFFFAOYSA-N   \n",
       "\n",
       "       mwt   logp  reactive                                             morgan  \n",
       "0  182.223  1.645         0  [0, 0, 0, 0, 0, 0, 0, 0, 0, 0, 0, 0, 0, 0, 0, ...  \n",
       "1  124.139  1.709         0  [0, 0, 0, 0, 0, 0, 0, 0, 0, 0, 0, 0, 0, 0, 0, ...  \n",
       "2  196.593  1.694         0  [0, 0, 0, 0, 0, 0, 0, 0, 0, 0, 0, 0, 0, 0, 0, ...  \n",
       "3  169.268  1.552         0  [0, 1, 0, 0, 0, 0, 0, 0, 0, 0, 0, 0, 0, 0, 0, ...  \n",
       "4  179.219  1.574         0  [0, 0, 0, 0, 0, 0, 0, 0, 0, 0, 0, 0, 0, 0, 0, ...  "
      ],
      "text/html": [
       "<div>\n",
       "<style scoped>\n",
       "    .dataframe tbody tr th:only-of-type {\n",
       "        vertical-align: middle;\n",
       "    }\n",
       "\n",
       "    .dataframe tbody tr th {\n",
       "        vertical-align: top;\n",
       "    }\n",
       "\n",
       "    .dataframe thead th {\n",
       "        text-align: right;\n",
       "    }\n",
       "</style>\n",
       "<table border=\"1\" class=\"dataframe\">\n",
       "  <thead>\n",
       "    <tr style=\"text-align: right;\">\n",
       "      <th></th>\n",
       "      <th>smiles</th>\n",
       "      <th>zinc_id</th>\n",
       "      <th>inchikey</th>\n",
       "      <th>mwt</th>\n",
       "      <th>logp</th>\n",
       "      <th>reactive</th>\n",
       "      <th>morgan</th>\n",
       "    </tr>\n",
       "  </thead>\n",
       "  <tbody>\n",
       "    <tr>\n",
       "      <th>0</th>\n",
       "      <td>Cc1cc(C(=O)O)nn1C(C)(C)C</td>\n",
       "      <td>128082</td>\n",
       "      <td>FCFGJNOOQYQMKY-UHFFFAOYSA-N</td>\n",
       "      <td>182.223</td>\n",
       "      <td>1.645</td>\n",
       "      <td>0</td>\n",
       "      <td>[0, 0, 0, 0, 0, 0, 0, 0, 0, 0, 0, 0, 0, 0, 0, ...</td>\n",
       "    </tr>\n",
       "    <tr>\n",
       "      <th>1</th>\n",
       "      <td>Cc1cc(C=O)oc1C</td>\n",
       "      <td>153224</td>\n",
       "      <td>JPTPEPVCVXGNJM-UHFFFAOYSA-N</td>\n",
       "      <td>124.139</td>\n",
       "      <td>1.709</td>\n",
       "      <td>0</td>\n",
       "      <td>[0, 0, 0, 0, 0, 0, 0, 0, 0, 0, 0, 0, 0, 0, 0, ...</td>\n",
       "    </tr>\n",
       "    <tr>\n",
       "      <th>2</th>\n",
       "      <td>Oc1nc2ccc(Cl)cc2nc1O</td>\n",
       "      <td>336490</td>\n",
       "      <td>RNOLFZACEWWIHP-UHFFFAOYSA-N</td>\n",
       "      <td>196.593</td>\n",
       "      <td>1.694</td>\n",
       "      <td>0</td>\n",
       "      <td>[0, 0, 0, 0, 0, 0, 0, 0, 0, 0, 0, 0, 0, 0, 0, ...</td>\n",
       "    </tr>\n",
       "    <tr>\n",
       "      <th>3</th>\n",
       "      <td>CC(C)[C@@H]1C(=O)C[C@@H](C)CN1C</td>\n",
       "      <td>1296142</td>\n",
       "      <td>ALCOISCHVBFFNS-PSASIEDQSA-N</td>\n",
       "      <td>169.268</td>\n",
       "      <td>1.552</td>\n",
       "      <td>0</td>\n",
       "      <td>[0, 1, 0, 0, 0, 0, 0, 0, 0, 0, 0, 0, 0, 0, 0, ...</td>\n",
       "    </tr>\n",
       "    <tr>\n",
       "      <th>4</th>\n",
       "      <td>COc1cc(N(C)C)ccc1C=O</td>\n",
       "      <td>1583074</td>\n",
       "      <td>HGDRXADJVGVGBC-UHFFFAOYSA-N</td>\n",
       "      <td>179.219</td>\n",
       "      <td>1.574</td>\n",
       "      <td>0</td>\n",
       "      <td>[0, 0, 0, 0, 0, 0, 0, 0, 0, 0, 0, 0, 0, 0, 0, ...</td>\n",
       "    </tr>\n",
       "  </tbody>\n",
       "</table>\n",
       "</div>"
      ]
     },
     "execution_count": 37,
     "metadata": {},
     "output_type": "execute_result"
    }
   ],
   "execution_count": 37
  }
 ],
 "metadata": {
  "kernelspec": {
   "display_name": "Python 3",
   "language": "python",
   "name": "python3"
  },
  "language_info": {
   "codemirror_mode": {
    "name": "ipython",
    "version": 2
   },
   "file_extension": ".py",
   "mimetype": "text/x-python",
   "name": "python",
   "nbconvert_exporter": "python",
   "pygments_lexer": "ipython2",
   "version": "2.7.6"
  }
 },
 "nbformat": 4,
 "nbformat_minor": 5
}
