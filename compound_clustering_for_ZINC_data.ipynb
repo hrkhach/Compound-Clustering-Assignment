{
 "cells": [
  {
   "metadata": {
    "collapsed": true
   },
   "cell_type": "code",
   "outputs": [],
   "execution_count": null,
   "source": [
    "import re\n",
    "import scipy\n",
    "import functools\n",
    "import numpy as np\n",
    "import pandas as pd\n",
    "\n",
    "import networkx as nx\n",
    "\n",
    "from rdkit import Chem\n",
    "from rdkit import DataStructs\n",
    "from rdkit.Chem import AllChem\n",
    "from rdkit.DataStructs import TanimotoSimilarity\n",
    "from rdkit.Chem.Fingerprints import FingerprintMols\n",
    "\n",
    "import matplotlib.pyplot as plt\n",
    "%matplotlib inline\n",
    "\n",
    "import umap\n",
    "# import umap.plot\n",
    "# import hdbscan\n",
    "\n",
    "from tqdm import tqdm_notebook as tqdm"
   ],
   "id": "9969cd5e01966d6e"
  },
  {
   "metadata": {},
   "cell_type": "code",
   "outputs": [],
   "execution_count": null,
   "source": [
    "from sklearn.manifold import TSNE\n",
    "from sklearn.cluster import DBSCAN\n",
    "from sklearn.cluster import KMeans\n",
    "from sklearn.utils import check_X_y\n",
    "from sklearn.utils import _safe_indexing\n",
    "from sklearn.utils import check_random_state\n",
    "from sklearn.preprocessing import LabelEncoder\n",
    "from sklearn.metrics import davies_bouldin_score\n",
    "from sklearn.metrics.pairwise import pairwise_distances\n",
    "from sklearn.metrics.pairwise import euclidean_distances\n",
    "from sklearn.metrics.pairwise import pairwise_distances_chunked\n",
    "from sklearn.utils.validation import _deprecate_positional_args"
   ],
   "id": "449f33e287b2b8b5"
  },
  {
   "metadata": {},
   "cell_type": "code",
   "outputs": [],
   "execution_count": null,
   "source": [
    "def check_number_of_labels(n_labels, n_samples):\n",
    "    if not 1 < n_labels < n_samples:\n",
    "        raise ValueError(\"Number of labels is %d. Valid values are 2\"\n",
    "                         \"to n_samples - 1 (inclusive)\" % n_labels)\n",
    "\n",
    "\n",
    "def FingerprintFromSmiles(smiles, method='morgan'):\n",
    "    \"\"\"Converts SMILES to Fingerprint\"\"\"\n",
    "    if method == \"rdkit\":\n",
    "        return Chem.RDKFingerprint(Chem.MolFromSmiles(smiles))\n",
    "    elif method == \"morgan\":\n",
    "        return AllChem.GetMorganFingerprintAsBitVect(Chem.MolFromSmiles(smiles), 3, nBits=1024)\n",
    "    else:\n",
    "        return \"invalid method: use rdkit or morgan\""
   ],
   "id": "c1ece58953e1fba9"
  },
  {
   "metadata": {},
   "cell_type": "code",
   "outputs": [],
   "execution_count": null,
   "source": [
    "data_f = pd.read_csv(\"\")\n",
    "data_r = pd.read_csv(\"\")"
   ],
   "id": "1a4259af4784065e"
  }
 ],
 "metadata": {
  "kernelspec": {
   "display_name": "Python 3",
   "language": "python",
   "name": "python3"
  },
  "language_info": {
   "codemirror_mode": {
    "name": "ipython",
    "version": 2
   },
   "file_extension": ".py",
   "mimetype": "text/x-python",
   "name": "python",
   "nbconvert_exporter": "python",
   "pygments_lexer": "ipython2",
   "version": "2.7.6"
  }
 },
 "nbformat": 4,
 "nbformat_minor": 5
}
